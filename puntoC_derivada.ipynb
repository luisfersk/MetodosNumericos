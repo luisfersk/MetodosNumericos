{
 "cells": [
  {
   "attachments": {
    "image.png": {
     "image/png": "[encoded data removed]"
    }
   },
   "cell_type": "markdown",
   "metadata": {
    "scrolled": true
   },
   "source": [
    "![image.png](attachment:image.png)\n",
    "# Definición de las funciones necesrias"
   ]
  },
  {
   "cell_type": "code",
   "execution_count": 52,
   "metadata": {},
   "outputs": [],
   "source": [
    "def potencia(x,y) :\n",
    "  if (y < 0) :\n",
    "    return 0\n",
    "  elif (y == 0) :\n",
    "    return 1\n",
    "  else :\n",
    "    poten = x\n",
    "    for i in range(1,y) :\n",
    "      poten *= x\n",
    "    return poten"
   ]
  },
  {
   "cell_type": "code",
   "execution_count": 31,
   "metadata": {},
   "outputs": [],
   "source": [
    "def root(b,n):\n",
    "    return b**(1/n)"
   ]
  },
  {
   "cell_type": "code",
   "execution_count": 32,
   "metadata": {},
   "outputs": [],
   "source": [
    "def euler(x):\n",
    "    return potencia(potencia((1+1/1000000),1000000),x)"
   ]
  },
  {
   "cell_type": "code",
   "execution_count": 26,
   "metadata": {},
   "outputs": [],
   "source": [
    "def log(n):\n",
    "    x = ((n-1)/(n+1))\n",
    "    a = (potencia(x,2))*((1/3)+((1/5)*potencia(x,2)))\n",
    "    val = 0.87*x*(a+1)\n",
    "    return val"
   ]
  },
  {
   "cell_type": "code",
   "execution_count": 72,
   "metadata": {},
   "outputs": [],
   "source": [
    "def log(base,num) :\n",
    "    val = 0\n",
    "    i = 0\n",
    "    accurate = 10\n",
    "    reps=0\n",
    "    while(num != 1 and accurate>=0) :\n",
    "        #try :\n",
    "        while (num.real>=base) :\n",
    "            num /= base\n",
    "            i += 1\n",
    "        num = potencia(num,10)\n",
    "        val = 10*(val+i)\n",
    "        accurate -= 1\n",
    "        reps += 1\n",
    "    return val/potencia(10,reps)"
   ]
  },
  {
   "cell_type": "code",
   "execution_count": 33,
   "metadata": {},
   "outputs": [],
   "source": [
    "def acoshi(x):\n",
    "    y=x+root(potencia(x,2)-1,2)\n",
    "    return ln(y)\n"
   ]
  },
  {
   "cell_type": "markdown",
   "metadata": {
    "scrolled": true
   },
   "source": [
    "# Funciones para el calculo de las derivadas hacia delante"
   ]
  },
  {
   "cell_type": "code",
   "execution_count": 29,
   "metadata": {},
   "outputs": [],
   "source": [
    "def diff_adelante(x,h):\n",
    "    return (acoshi(x+h)-acoshi(x))/h\n",
    "\n",
    "def diff2_adelante(x,h):\n",
    "    return (-acoshi(x+(2*h))+(4*acoshi(x+h))-(3*acoshi(x)))/(2*h)"
   ]
  },
  {
   "cell_type": "markdown",
   "metadata": {
    "scrolled": true
   },
   "source": [
    "# Funciones para el calculo de las derivadas hacia centro"
   ]
  },
  {
   "cell_type": "code",
   "execution_count": 53,
   "metadata": {},
   "outputs": [],
   "source": [
    "def diff_central(x,h):\n",
    "    return (acoshi(x+h)-acoshi(x-h))/(2*h)\n",
    "\n",
    "def diff2_central(x,h):\n",
    "    return (-acoshi(x+(2*h))+(8*acoshi(x+h))-(8*acoshi(x-h))+acoshi(x-(2*h)))/(12*h)"
   ]
  },
  {
   "cell_type": "markdown",
   "metadata": {
    "scrolled": true
   },
   "source": [
    "# Funciones para el calculo de las derivadas hacia atras"
   ]
  },
  {
   "cell_type": "code",
   "execution_count": 54,
   "metadata": {},
   "outputs": [],
   "source": [
    "def diff_atras(x,h):\n",
    "    return (acoshi(x)-acoshi(x-h))/h\n",
    "\n",
    "def diff2_atras(x,h):\n",
    "    return ((3*acoshi(x))-(4*acoshi(x-h))+(acoshi(x-(2*h))))/(2*h)"
   ]
  },
  {
   "cell_type": "markdown",
   "metadata": {
    "scrolled": true
   },
   "source": [
    "# Calculo de las derivadas de manera analitica"
   ]
  },
  {
   "cell_type": "code",
   "execution_count": 75,
   "metadata": {},
   "outputs": [
    {
     "data": {
      "text/latex": [
       "$\\displaystyle \\frac{1}{\\sqrt{x^{2} - 1}}$"
      ],
      "text/plain": [
       "1/sqrt(x**2 - 1)"
      ]
     },
     "execution_count": 75,
     "metadata": {},
     "output_type": "execute_result"
    }
   ],
   "source": [
    "import sympy as sp\n",
    "\n",
    "x = sp.Symbol('x') \n",
    "y = sp.acosh(x)\n",
    "df = sp.diff(y,x)\n",
    "df"
   ]
  },
  {
   "cell_type": "code",
   "execution_count": 74,
   "metadata": {},
   "outputs": [
    {
     "data": {
      "text/plain": [
       "1.1404206419007872"
      ]
     },
     "execution_count": 74,
     "metadata": {},
     "output_type": "execute_result"
    }
   ],
   "source": [
    "1/(root(potencia(1.33,2)-1,2))"
   ]
  },
  {
   "cell_type": "markdown",
   "metadata": {},
   "source": [
    "# Calculo de la derivadas"
   ]
  },
  {
   "cell_type": "code",
   "execution_count": 73,
   "metadata": {},
   "outputs": [],
   "source": [
    "import matplotlib.pyplot as plt\n",
    "\n",
    "x = 1.33\n",
    "h1 = 0.5\n",
    "h2 = 0.05\n",
    "h3 = 0.01\n",
    "\n",
    "df_ad1 = diff_adelante(x,h1)\n",
    "df_ad2 = diff_adelante(x,h2)\n",
    "df_ad3 = diff_adelante(x,h3)\n",
    "\n",
    "df2_ad1 = diff2_adelante(x,h1)\n",
    "df2_ad2 = diff2_adelante(x,h2)\n",
    "df2_ad3 = diff2_adelante(x,h3)\n",
    "\n",
    "df_ce1 = diff_central(x,h1)\n",
    "df_ce2 = diff_central(x,h2)\n",
    "df_ce3 = diff_central(x,h3)\n",
    "\n",
    "df2_ce1 = diff2_central(x,h1)\n",
    "df2_ce2 = diff2_central(x,h2)\n",
    "df2_ce3 = diff2_central(x,h3)\n",
    "\n",
    "df_at1 = diff_atras(x,h1)\n",
    "df_at2 = diff_atras(x,h2)\n",
    "df_at3 = diff_atras(x,h3)\n",
    "\n",
    "df2_at1 = diff2_atras(x,h1)\n",
    "df2_at2 = diff2_atras(x,h2)\n",
    "df2_at3 = diff2_atras(x,h3)\n"
   ]
  },
  {
   "cell_type": "code",
   "execution_count": null,
   "metadata": {},
   "outputs": [],
   "source": []
  }
 ],
 "metadata": {
  "kernelspec": {
   "display_name": "Python 3",
   "language": "python",
   "name": "python3"
  },
  "language_info": {
   "codemirror_mode": {
    "name": "ipython",
    "version": 3
   },
   "file_extension": ".py",
   "mimetype": "text/x-python",
   "name": "python",
   "nbconvert_exporter": "python",
   "pygments_lexer": "ipython3",
   "version": "3.8.3"
  }
 },
 "nbformat": 4,
 "nbformat_minor": 4
}
